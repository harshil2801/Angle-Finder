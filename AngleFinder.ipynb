{
 "cells": [
  {
   "cell_type": "code",
   "execution_count": 8,
   "metadata": {},
   "outputs": [],
   "source": [
    "import cv2\n",
    "import math\n",
    "\n",
    "image = \"download.png\""
   ]
  },
  {
   "cell_type": "code",
   "execution_count": 9,
   "metadata": {},
   "outputs": [],
   "source": [
    "img = cv2.imread(image)\n",
    "\n",
    "img = cv2.resize(img, (1080,640))\n",
    "\n",
    "points = []"
   ]
  },
  {
   "cell_type": "code",
   "execution_count": 10,
   "metadata": {},
   "outputs": [],
   "source": [
    "def mousePointsTracker(event, x, y, flags, params):\n",
    "    if event == cv2.EVENT_LBUTTONDOWN:\n",
    "        size = len(points)\n",
    "        if size!=0 and size%3 != 0:\n",
    "            cv2.line(img, tuple(points[round((size-1)/3)*3]),(x,y),(0,0,255),2)\n",
    "        cv2.circle(img, (x,y), 5, (0,0,255), 3)\n",
    "        points.append([x,y])"
   ]
  },
  {
   "cell_type": "code",
   "execution_count": 11,
   "metadata": {},
   "outputs": [],
   "source": [
    "def getGradient(pts1, pts2):\n",
    "    return (pts2[1] - pts1[1])/(pts2[0] - pts1[0])"
   ]
  },
  {
   "cell_type": "code",
   "execution_count": 14,
   "metadata": {},
   "outputs": [],
   "source": [
    "def getAngle(points):\n",
    "    pts1, pts2, pts3 = points[-3:]\n",
    "    m1 = getGradient(pts1, pts2)\n",
    "    m2 = getGradient(pts1, pts3)\n",
    "    if m1-m2>0:\n",
    "        angle = math.atan((m1-m2)/(1+(m2*m1)))\n",
    "        angleDegree = round(math.degrees(angle))\n",
    "    elif m1-m2<0:\n",
    "        angle = math.atan((m2-m1)/(1+(m2*m1)))\n",
    "        angleDegree = round(math.degrees(angle))\n",
    "        angleDegree = 180 - angleDegree\n",
    "    elif m1-m2 == 0:\n",
    "        if pts2[0] - pts1[0] > 0 and pts3[0] - pts1[0] > 0:\n",
    "            angleDegree = 0\n",
    "        elif pts2[0] - pts1[0] < 0 and pts3[0] - pts1[0] > 0:\n",
    "            angleDegree = 180\n",
    "    elif m1 * m2 == -1:\n",
    "        angleDegree = 90\n",
    "#     else:\n",
    "#         angle = math.atan((m2-m1)/(1+(m2*m1)))\n",
    "#         angleDegree = round(math.degrees(angle))\n",
    "    cv2.putText(img,str(angleDegree),(pts1[0]-40,pts1[1]-20),cv2.FONT_HERSHEY_COMPLEX,\n",
    "                1.5,(0,0,255),2)"
   ]
  },
  {
   "cell_type": "code",
   "execution_count": 15,
   "metadata": {},
   "outputs": [
    {
     "ename": "KeyboardInterrupt",
     "evalue": "",
     "output_type": "error",
     "traceback": [
      "\u001b[1;31m---------------------------------------------------------------------------\u001b[0m",
      "\u001b[1;31mKeyboardInterrupt\u001b[0m                         Traceback (most recent call last)",
      "\u001b[1;32m<ipython-input-15-48bb465863fb>\u001b[0m in \u001b[0;36m<module>\u001b[1;34m\u001b[0m\n\u001b[0;32m      5\u001b[0m     \u001b[0mcv2\u001b[0m\u001b[1;33m.\u001b[0m\u001b[0mimshow\u001b[0m\u001b[1;33m(\u001b[0m\u001b[1;34m\"Image\"\u001b[0m\u001b[1;33m,\u001b[0m \u001b[0mimg\u001b[0m\u001b[1;33m)\u001b[0m\u001b[1;33m\u001b[0m\u001b[1;33m\u001b[0m\u001b[0m\n\u001b[0;32m      6\u001b[0m     \u001b[0mcv2\u001b[0m\u001b[1;33m.\u001b[0m\u001b[0msetMouseCallback\u001b[0m\u001b[1;33m(\u001b[0m\u001b[1;34m'Image'\u001b[0m\u001b[1;33m,\u001b[0m \u001b[0mmousePointsTracker\u001b[0m\u001b[1;33m)\u001b[0m\u001b[1;33m\u001b[0m\u001b[1;33m\u001b[0m\u001b[0m\n\u001b[1;32m----> 7\u001b[1;33m     \u001b[1;32mif\u001b[0m \u001b[0mcv2\u001b[0m\u001b[1;33m.\u001b[0m\u001b[0mwaitKey\u001b[0m\u001b[1;33m(\u001b[0m\u001b[1;36m10\u001b[0m\u001b[1;33m)\u001b[0m \u001b[1;33m==\u001b[0m \u001b[0mord\u001b[0m\u001b[1;33m(\u001b[0m\u001b[1;34m'c'\u001b[0m\u001b[1;33m)\u001b[0m\u001b[1;33m:\u001b[0m\u001b[1;33m\u001b[0m\u001b[1;33m\u001b[0m\u001b[0m\n\u001b[0m\u001b[0;32m      8\u001b[0m         \u001b[0mpoints\u001b[0m \u001b[1;33m=\u001b[0m \u001b[1;33m[\u001b[0m\u001b[1;33m]\u001b[0m\u001b[1;33m\u001b[0m\u001b[1;33m\u001b[0m\u001b[0m\n\u001b[0;32m      9\u001b[0m         \u001b[0mimg\u001b[0m \u001b[1;33m=\u001b[0m \u001b[0mcv2\u001b[0m\u001b[1;33m.\u001b[0m\u001b[0mimread\u001b[0m\u001b[1;33m(\u001b[0m\u001b[0mimage\u001b[0m\u001b[1;33m)\u001b[0m\u001b[1;33m\u001b[0m\u001b[1;33m\u001b[0m\u001b[0m\n",
      "\u001b[1;31mKeyboardInterrupt\u001b[0m: "
     ]
    }
   ],
   "source": [
    "while True:\n",
    "    \n",
    "    if len(points) % 3 == 0 and len(points) != 0:\n",
    "        getAngle(points) \n",
    "    cv2.imshow(\"Image\", img)\n",
    "    cv2.setMouseCallback('Image', mousePointsTracker)\n",
    "    if cv2.waitKey(10) == ord('c'):\n",
    "        points = []\n",
    "        img = cv2.imread(image)\n",
    "        img = cv2.resize(img, (1080,640))\n",
    "        \n"
   ]
  },
  {
   "cell_type": "code",
   "execution_count": null,
   "metadata": {},
   "outputs": [],
   "source": []
  },
  {
   "cell_type": "code",
   "execution_count": null,
   "metadata": {},
   "outputs": [],
   "source": []
  }
 ],
 "metadata": {
  "kernelspec": {
   "display_name": "Python 3",
   "language": "python",
   "name": "python3"
  },
  "language_info": {
   "codemirror_mode": {
    "name": "ipython",
    "version": 3
   },
   "file_extension": ".py",
   "mimetype": "text/x-python",
   "name": "python",
   "nbconvert_exporter": "python",
   "pygments_lexer": "ipython3",
   "version": "3.8.5"
  }
 },
 "nbformat": 4,
 "nbformat_minor": 4
}
